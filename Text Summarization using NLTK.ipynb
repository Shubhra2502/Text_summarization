{
 "cells": [
  {
   "cell_type": "markdown",
   "id": "37e20af6",
   "metadata": {},
   "source": [
    "# Importing the necessary python libraries"
   ]
  },
  {
   "cell_type": "code",
   "execution_count": 1,
   "id": "1e8bd14f",
   "metadata": {},
   "outputs": [
    {
     "name": "stderr",
     "output_type": "stream",
     "text": [
      "[nltk_data] Downloading package stopwords to\n",
      "[nltk_data]     /Users/shubhrasaxena/nltk_data...\n",
      "[nltk_data]   Package stopwords is already up-to-date!\n",
      "[nltk_data] Downloading package punkt to\n",
      "[nltk_data]     /Users/shubhrasaxena/nltk_data...\n",
      "[nltk_data]   Package punkt is already up-to-date!\n"
     ]
    },
    {
     "data": {
      "text/plain": [
       "True"
      ]
     },
     "execution_count": 1,
     "metadata": {},
     "output_type": "execute_result"
    }
   ],
   "source": [
    "import nltk\n",
    "import string\n",
    "from heapq import nlargest\n",
    "from nltk.corpus import stopwords\n",
    "from nltk.tokenize import word_tokenize, sent_tokenize\n",
    "nltk.download('stopwords')\n",
    "nltk.download('punkt')\n"
   ]
  },
  {
   "cell_type": "code",
   "execution_count": 2,
   "id": "b523e84d",
   "metadata": {},
   "outputs": [
    {
     "data": {
      "text/plain": [
       "'/Users/shubhrasaxena'"
      ]
     },
     "execution_count": 2,
     "metadata": {},
     "output_type": "execute_result"
    }
   ],
   "source": [
    "pwd"
   ]
  },
  {
   "cell_type": "markdown",
   "id": "967e0bea",
   "metadata": {},
   "source": [
    "# Preprocess the text data"
   ]
  },
  {
   "cell_type": "code",
   "execution_count": 3,
   "id": "35d8752d",
   "metadata": {},
   "outputs": [],
   "source": [
    "with open(\"/Users/shubhrasaxena/Downloads/Machine learning.txt\",\"r\",encoding = \"utf8\") as f:\n",
    "    text = f.read()"
   ]
  },
  {
   "cell_type": "code",
   "execution_count": 4,
   "id": "ef8bdbea",
   "metadata": {},
   "outputs": [
    {
     "name": "stdout",
     "output_type": "stream",
     "text": [
      "Machine learning\n",
      "\n",
      "Ed Burns\n",
      "By\n",
      "Ed Burns, Executive Editor\n",
      "What is machine learning?\n",
      "Machine learning (ML) is a type of artificial intelligence (AI) that allows software applications to become more accurate at predicting outcomes without being explicitly programmed to do so. Machine learning algorithms use historical data as input to predict new output values.\n",
      "\n",
      "Recommendation engines are a common use case for machine learning. Other popular uses include fraud detection, spam filtering, malware threat detection, business process automation (BPA) and predictive maintenance.\n",
      "\n",
      "Why is machine learning important?\n",
      "Machine learning is important because it gives enterprises a view of trends in customer behavior and business operational patterns, as well as supports the development of new products. Many of today's leading companies, such as Facebook, Google and Uber, make machine learning a central part of their operations. Machine learning has become a significant competitive differentiator for many companies.\n",
      "\n",
      "What are the different types of machine learning?\n",
      "Classical machine learning is often categorized by how an algorithm learns to become more accurate in its predictions. There are four basic approaches: supervised learning, unsupervised learning, semi-supervised learning and reinforcement learning. The type of algorithm data scientists choose to use depends on what type of data they want to predict.\n",
      "\n",
      "THIS ARTICLE IS PART OF\n",
      "\n",
      "In-depth guide to machine learning in the enterprise\n",
      "Which also includes:\n",
      "Learn the business value of AI's various techniques\n",
      "10 common uses for machine learning applications in business\n",
      "6 ways to reduce different types of bias in machine learning\n",
      "DOWNLOAD\n",
      "1\n",
      "Download this entire guide for FREE now!\n",
      "\n",
      "Supervised learning: In this type of machine learning, data scientists supply algorithms with labeled training data and define the variables they want the algorithm to assess for correlations. Both the input and the output of the algorithm is specified.\n",
      "Unsupervised learning: This type of machine learning involves algorithms that train on unlabeled data. The algorithm scans through data sets looking for any meaningful connection. The data that algorithms train on as well as the predictions or recommendations they output are predetermined.\n",
      "Semi-supervised learning: This approach to machine learning involves a mix of the two preceding types. Data scientists may feed an algorithm mostly labeled training data, but the model is free to explore the data on its own and develop its own understanding of the data set.\n",
      "Reinforcement learning: Data scientists typically use reinforcement learning to teach a machine to complete a multi-step process for which there are clearly defined rules. Data scientists program an algorithm to complete a task and give it positive or negative cues as it works out how to complete a task. But for the most part, the algorithm decides on its own what steps to take along the way.\n",
      "How does supervised machine learning work?\n",
      "Supervised machine learning requires the data scientist to train the algorithm with both labeled inputs and desired outputs. Supervised learning algorithms are good for the following tasks:\n",
      "\n",
      "Binary classification: Dividing data into two categories.\n",
      "Multi-class classification: Choosing between more than two types of answers.\n",
      "Regression modeling: Predicting continuous values.\n",
      "Ensembling: Combining the predictions of multiple machine learning models to produce an accurate prediction.\n",
      "How does unsupervised machine learning work?\n",
      "Unsupervised machine learning algorithms do not require data to be labeled. They sift through unlabeled data to look for patterns that can be used to group data points into subsets. Most types of deep learning, including neural networks, are unsupervised algorithms. Unsupervised learning algorithms are good for the following tasks:\n",
      "\n",
      "Clustering: Splitting the dataset into groups based on similarity.\n",
      "Anomaly detection: Identifying unusual data points in a data set.\n",
      "Association mining: Identifying sets of items in a data set that frequently occur together.\n",
      "Dimensionality reduction: Reducing the number of variables in a data set.\n",
      "\n",
      "How does semi-supervised learning work?\n",
      "Semi-supervised learning works by data scientists feeding a small amount of labeled training data to an algorithm. From this, the algorithm learns the dimensions of the data set, which it can then apply to new, unlabeled data. The performance of algorithms typically improves when they train on labeled data sets. But labeling data can be time consuming and expensive. Semi-supervised learning strikes a middle ground between the performance of supervised learning and the efficiency of unsupervised learning. Some areas where semi-supervised learning is used include:\n",
      "\n",
      "Machine translation: Teaching algorithms to translate language based on less than a full dictionary of words.\n",
      "Fraud detection: Identifying cases of fraud when you only have a few positive examples.\n",
      "Labelling data: Algorithms trained on small data sets can learn to apply data labels to larger sets automatically.\n",
      "How does reinforcement learning work?\n",
      "Reinforcement learning works by programming an algorithm with a distinct goal and a prescribed set of rules for accomplishing that goal. Data scientists also program the algorithm to seek positive rewards -- which it receives when it performs an action that is beneficial toward the ultimate goal -- and avoid punishments -- which it receives when it performs an action that gets it farther away from its ultimate goal. Reinforcement learning is often used in areas such as:\n",
      "\n",
      "Robotics: Robots can learn to perform tasks the physical world using this technique.\n",
      "Video gameplay: Reinforcement learning has been used to teach bots to play a number of video games.\n",
      "Resource management: Given finite resources and a defined goal, reinforcement learning can help enterprises plan out how to allocate resources.\n"
     ]
    }
   ],
   "source": [
    "print(text)"
   ]
  },
  {
   "cell_type": "code",
   "execution_count": 5,
   "id": "11d935d7",
   "metadata": {},
   "outputs": [
    {
     "name": "stdout",
     "output_type": "stream",
     "text": [
      "['By', 'What', 'is', 'is', 'a', 'of', 'that', 'to', 'more', 'at', 'being', 'to', 'do', 'so', 'as', 'to', 'are', 'a', 'for', 'Other', 'and', 'Why', 'is', 'is', 'because', 'it', 'a', 'of', 'in', 'and', 'as', 'as', 'the', 'of', 'of', 'such', 'as', 'and', 'a', 'of', 'their', 'has', 'a', 'for', 'What', 'are', 'the', 'of', 'is', 'by', 'how', 'an', 'to', 'more', 'in', 'its', 'There', 'are', 'and', 'The', 'of', 'to', 'on', 'what', 'of', 'they', 'to', 'THIS', 'IS', 'OF', 'to', 'in', 'the', 'Which', 'the', 'of', 'for', 'in', 'to', 'of', 'in', 'this', 'for', 'now', 'In', 'this', 'of', 'with', 'and', 'the', 'they', 'the', 'to', 'for', 'Both', 'the', 'and', 'the', 'of', 'the', 'is', 'This', 'of', 'that', 'on', 'The', 'through', 'for', 'any', 'The', 'that', 'on', 'as', 'as', 'the', 'or', 'they', 'are', 'This', 'to', 'a', 'of', 'the', 'an', 'but', 'the', 'is', 'to', 'the', 'on', 'its', 'own', 'and', 'its', 'own', 'of', 'the', 'to', 'a', 'to', 'a', 'for', 'which', 'there', 'are', 'an', 'to', 'a', 'and', 'it', 'or', 'as', 'it', 'out', 'how', 'to', 'a', 'But', 'for', 'the', 'most', 'the', 'on', 'its', 'own', 'what', 'to', 'the', 'How', 'does', 'the', 'to', 'the', 'with', 'both', 'and', 'are', 'for', 'the', 'into', 'between', 'more', 'than', 'of', 'the', 'of', 'to', 'an', 'How', 'does', 'do', 'not', 'to', 'be', 'They', 'through', 'to', 'for', 'that', 'can', 'be', 'to', 'into', 'Most', 'of', 'are', 'are', 'for', 'the', 'the', 'into', 'on', 'in', 'a', 'of', 'in', 'a', 'that', 'the', 'of', 'in', 'a', 'How', 'does', 'by', 'a', 'of', 'to', 'an', 'From', 'this', 'the', 'the', 'of', 'the', 'which', 'it', 'can', 'then', 'to', 'The', 'of', 'when', 'they', 'on', 'But', 'can', 'be', 'and', 'a', 'between', 'the', 'of', 'and', 'the', 'of', 'Some', 'where', 'is', 'to', 'on', 'than', 'a', 'of', 'of', 'when', 'you', 'only', 'have', 'a', 'few', 'on', 'can', 'to', 'to', 'How', 'does', 'by', 'an', 'with', 'a', 'and', 'a', 'of', 'for', 'that', 'the', 'to', 'which', 'it', 'when', 'it', 'an', 'that', 'is', 'the', 'and', 'which', 'it', 'when', 'it', 'an', 'that', 'it', 'from', 'its', 'is', 'in', 'such', 'as', 'can', 'to', 'the', 'this', 'has', 'been', 'to', 'to', 'a', 'of', 'and', 'a', 'can', 'out', 'how', 'to']\n"
     ]
    }
   ],
   "source": [
    "words = word_tokenize(text)\n",
    "stop_words = set(stopwords.words('english'))\n",
    "stopwords_in_text = [word for word in words if word.lower() in stop_words]\n",
    "\n",
    "print(stopwords_in_text)"
   ]
  },
  {
   "cell_type": "code",
   "execution_count": 6,
   "id": "f92aa25f",
   "metadata": {},
   "outputs": [
    {
     "name": "stdout",
     "output_type": "stream",
     "text": [
      "there are 5935 words in all text\n"
     ]
    }
   ],
   "source": [
    "print(\"there are {} words in all text\".format(len(text)))"
   ]
  },
  {
   "cell_type": "code",
   "execution_count": 26,
   "id": "af1ba290",
   "metadata": {},
   "outputs": [],
   "source": [
    "\n",
    "tokens = word_tokenize(text) \n",
    "stop_words = stopwords.words('english')\n",
    "from string import punctuation\n"
   ]
  },
  {
   "cell_type": "code",
   "execution_count": 27,
   "id": "9c3e8ae9",
   "metadata": {},
   "outputs": [
    {
     "data": {
      "text/plain": [
       "'!\"#$%&\\'()*+,-./:;<=>?@[\\\\]^_`{|}~\\n'"
      ]
     },
     "execution_count": 27,
     "metadata": {},
     "output_type": "execute_result"
    }
   ],
   "source": [
    "punctuation = punctuation + '\\n'\n",
    "punctuation"
   ]
  },
  {
   "cell_type": "code",
   "execution_count": 30,
   "id": "1afafabc",
   "metadata": {},
   "outputs": [],
   "source": [
    "word_frequencies = {}\n",
    "for word in words:    \n",
    "    if word.lower() not in stop_words:\n",
    "        if word.lower() not in punctuation:\n",
    "            if word not in word_frequencies.keys():\n",
    "                word_frequencies[word] = 1\n",
    "            else:\n",
    "                word_frequencies[word] += 1"
   ]
  },
  {
   "cell_type": "code",
   "execution_count": 31,
   "id": "61bfb415",
   "metadata": {},
   "outputs": [
    {
     "name": "stdout",
     "output_type": "stream",
     "text": [
      "45\n"
     ]
    }
   ],
   "source": [
    "max_frequency = max(word_frequencies.values())\n",
    "print(max_frequency)"
   ]
  },
  {
   "cell_type": "code",
   "execution_count": 21,
   "id": "ace3e5e2",
   "metadata": {},
   "outputs": [],
   "source": [
    "for word in word_frequencies.keys():\n",
    "    word_frequencies[word] = word_frequencies[word]/max_frequency"
   ]
  },
  {
   "cell_type": "code",
   "execution_count": 22,
   "id": "bfdacec6",
   "metadata": {},
   "outputs": [
    {
     "name": "stdout",
     "output_type": "stream",
     "text": [
      "{'Machine': 0.13333333333333333, 'learning': 1.0, 'Ed': 0.044444444444444446, 'Burns': 0.044444444444444446, 'Executive': 0.022222222222222223, 'Editor': 0.022222222222222223, 'machine': 0.4, 'ML': 0.022222222222222223, 'type': 0.1111111111111111, 'artificial': 0.022222222222222223, 'intelligence': 0.022222222222222223, 'AI': 0.044444444444444446, 'allows': 0.022222222222222223, 'software': 0.022222222222222223, 'applications': 0.044444444444444446, 'become': 0.06666666666666667, 'accurate': 0.06666666666666667, 'predicting': 0.022222222222222223, 'outcomes': 0.022222222222222223, 'without': 0.022222222222222223, 'explicitly': 0.022222222222222223, 'programmed': 0.022222222222222223, 'algorithms': 0.2222222222222222, 'use': 0.08888888888888889, 'historical': 0.022222222222222223, 'data': 0.6444444444444445, 'input': 0.044444444444444446, 'predict': 0.044444444444444446, 'new': 0.06666666666666667, 'output': 0.06666666666666667, 'values': 0.044444444444444446, 'Recommendation': 0.022222222222222223, 'engines': 0.022222222222222223, 'common': 0.044444444444444446, 'case': 0.022222222222222223, 'popular': 0.022222222222222223, 'uses': 0.044444444444444446, 'include': 0.044444444444444446, 'fraud': 0.044444444444444446, 'detection': 0.08888888888888889, 'spam': 0.022222222222222223, 'filtering': 0.022222222222222223, 'malware': 0.022222222222222223, 'threat': 0.022222222222222223, 'business': 0.08888888888888889, 'process': 0.044444444444444446, 'automation': 0.022222222222222223, 'BPA': 0.022222222222222223, 'predictive': 0.022222222222222223, 'maintenance': 0.022222222222222223, 'important': 0.044444444444444446, 'gives': 0.022222222222222223, 'enterprises': 0.044444444444444446, 'view': 0.022222222222222223, 'trends': 0.022222222222222223, 'customer': 0.022222222222222223, 'behavior': 0.022222222222222223, 'operational': 0.022222222222222223, 'patterns': 0.044444444444444446, 'well': 0.044444444444444446, 'supports': 0.022222222222222223, 'development': 0.022222222222222223, 'products': 0.022222222222222223, 'Many': 0.022222222222222223, 'today': 0.022222222222222223, \"'s\": 0.044444444444444446, 'leading': 0.022222222222222223, 'companies': 0.044444444444444446, 'Facebook': 0.022222222222222223, 'Google': 0.022222222222222223, 'Uber': 0.022222222222222223, 'make': 0.022222222222222223, 'central': 0.022222222222222223, 'part': 0.044444444444444446, 'operations': 0.022222222222222223, 'significant': 0.022222222222222223, 'competitive': 0.022222222222222223, 'differentiator': 0.022222222222222223, 'many': 0.022222222222222223, 'different': 0.044444444444444446, 'types': 0.1111111111111111, 'Classical': 0.022222222222222223, 'often': 0.044444444444444446, 'categorized': 0.022222222222222223, 'algorithm': 0.28888888888888886, 'learns': 0.044444444444444446, 'predictions': 0.06666666666666667, 'four': 0.022222222222222223, 'basic': 0.022222222222222223, 'approaches': 0.022222222222222223, 'supervised': 0.06666666666666667, 'unsupervised': 0.08888888888888889, 'semi-supervised': 0.06666666666666667, 'reinforcement': 0.08888888888888889, 'scientists': 0.15555555555555556, 'choose': 0.022222222222222223, 'depends': 0.022222222222222223, 'want': 0.044444444444444446, 'ARTICLE': 0.022222222222222223, 'PART': 0.022222222222222223, 'In-depth': 0.022222222222222223, 'guide': 0.044444444444444446, 'enterprise': 0.022222222222222223, 'also': 0.044444444444444446, 'includes': 0.022222222222222223, 'Learn': 0.022222222222222223, 'value': 0.022222222222222223, 'various': 0.022222222222222223, 'techniques': 0.022222222222222223, '10': 0.022222222222222223, '6': 0.022222222222222223, 'ways': 0.022222222222222223, 'reduce': 0.022222222222222223, 'bias': 0.022222222222222223, 'DOWNLOAD': 0.022222222222222223, '1': 0.022222222222222223, 'Download': 0.022222222222222223, 'entire': 0.022222222222222223, 'FREE': 0.022222222222222223, 'Supervised': 0.06666666666666667, 'supply': 0.022222222222222223, 'labeled': 0.13333333333333333, 'training': 0.06666666666666667, 'define': 0.022222222222222223, 'variables': 0.044444444444444446, 'assess': 0.022222222222222223, 'correlations': 0.022222222222222223, 'specified': 0.022222222222222223, 'Unsupervised': 0.06666666666666667, 'involves': 0.044444444444444446, 'train': 0.08888888888888889, 'unlabeled': 0.06666666666666667, 'scans': 0.022222222222222223, 'sets': 0.1111111111111111, 'looking': 0.022222222222222223, 'meaningful': 0.022222222222222223, 'connection': 0.022222222222222223, 'recommendations': 0.022222222222222223, 'predetermined': 0.022222222222222223, 'Semi-supervised': 0.06666666666666667, 'approach': 0.022222222222222223, 'mix': 0.022222222222222223, 'two': 0.06666666666666667, 'preceding': 0.022222222222222223, 'Data': 0.08888888888888889, 'may': 0.022222222222222223, 'feed': 0.022222222222222223, 'mostly': 0.022222222222222223, 'model': 0.022222222222222223, 'free': 0.022222222222222223, 'explore': 0.022222222222222223, 'develop': 0.022222222222222223, 'understanding': 0.022222222222222223, 'set': 0.13333333333333333, 'Reinforcement': 0.08888888888888889, 'typically': 0.044444444444444446, 'teach': 0.044444444444444446, 'complete': 0.06666666666666667, 'multi-step': 0.022222222222222223, 'clearly': 0.022222222222222223, 'defined': 0.044444444444444446, 'rules': 0.044444444444444446, 'program': 0.044444444444444446, 'task': 0.044444444444444446, 'give': 0.022222222222222223, 'positive': 0.06666666666666667, 'negative': 0.022222222222222223, 'cues': 0.022222222222222223, 'works': 0.06666666666666667, 'decides': 0.022222222222222223, 'steps': 0.022222222222222223, 'take': 0.022222222222222223, 'along': 0.022222222222222223, 'way': 0.022222222222222223, 'work': 0.08888888888888889, 'requires': 0.022222222222222223, 'scientist': 0.022222222222222223, 'inputs': 0.022222222222222223, 'desired': 0.022222222222222223, 'outputs': 0.022222222222222223, 'good': 0.044444444444444446, 'following': 0.044444444444444446, 'tasks': 0.06666666666666667, 'Binary': 0.022222222222222223, 'classification': 0.044444444444444446, 'Dividing': 0.022222222222222223, 'categories': 0.022222222222222223, 'Multi-class': 0.022222222222222223, 'Choosing': 0.022222222222222223, 'answers': 0.022222222222222223, 'Regression': 0.022222222222222223, 'modeling': 0.022222222222222223, 'Predicting': 0.022222222222222223, 'continuous': 0.022222222222222223, 'Ensembling': 0.022222222222222223, 'Combining': 0.022222222222222223, 'multiple': 0.022222222222222223, 'models': 0.022222222222222223, 'produce': 0.022222222222222223, 'prediction': 0.022222222222222223, 'require': 0.022222222222222223, 'sift': 0.022222222222222223, 'look': 0.022222222222222223, 'used': 0.08888888888888889, 'group': 0.022222222222222223, 'points': 0.044444444444444446, 'subsets': 0.022222222222222223, 'deep': 0.022222222222222223, 'including': 0.022222222222222223, 'neural': 0.022222222222222223, 'networks': 0.022222222222222223, 'Clustering': 0.022222222222222223, 'Splitting': 0.022222222222222223, 'dataset': 0.022222222222222223, 'groups': 0.022222222222222223, 'based': 0.044444444444444446, 'similarity': 0.022222222222222223, 'Anomaly': 0.022222222222222223, 'Identifying': 0.06666666666666667, 'unusual': 0.022222222222222223, 'Association': 0.022222222222222223, 'mining': 0.022222222222222223, 'items': 0.022222222222222223, 'frequently': 0.022222222222222223, 'occur': 0.022222222222222223, 'together': 0.022222222222222223, 'Dimensionality': 0.022222222222222223, 'reduction': 0.022222222222222223, 'Reducing': 0.022222222222222223, 'number': 0.044444444444444446, 'feeding': 0.022222222222222223, 'small': 0.044444444444444446, 'amount': 0.022222222222222223, 'dimensions': 0.022222222222222223, 'apply': 0.044444444444444446, 'performance': 0.044444444444444446, 'improves': 0.022222222222222223, 'labeling': 0.022222222222222223, 'time': 0.022222222222222223, 'consuming': 0.022222222222222223, 'expensive': 0.022222222222222223, 'strikes': 0.022222222222222223, 'middle': 0.022222222222222223, 'ground': 0.022222222222222223, 'efficiency': 0.022222222222222223, 'areas': 0.044444444444444446, 'translation': 0.022222222222222223, 'Teaching': 0.022222222222222223, 'translate': 0.022222222222222223, 'language': 0.022222222222222223, 'less': 0.022222222222222223, 'full': 0.022222222222222223, 'dictionary': 0.022222222222222223, 'words': 0.022222222222222223, 'Fraud': 0.022222222222222223, 'cases': 0.022222222222222223, 'examples': 0.022222222222222223, 'Labelling': 0.022222222222222223, 'Algorithms': 0.022222222222222223, 'trained': 0.022222222222222223, 'learn': 0.044444444444444446, 'labels': 0.022222222222222223, 'larger': 0.022222222222222223, 'automatically': 0.022222222222222223, 'programming': 0.022222222222222223, 'distinct': 0.022222222222222223, 'goal': 0.1111111111111111, 'prescribed': 0.022222222222222223, 'accomplishing': 0.022222222222222223, 'seek': 0.022222222222222223, 'rewards': 0.022222222222222223, '--': 0.06666666666666667, 'receives': 0.044444444444444446, 'performs': 0.044444444444444446, 'action': 0.044444444444444446, 'beneficial': 0.022222222222222223, 'toward': 0.022222222222222223, 'ultimate': 0.044444444444444446, 'avoid': 0.022222222222222223, 'punishments': 0.022222222222222223, 'gets': 0.022222222222222223, 'farther': 0.022222222222222223, 'away': 0.022222222222222223, 'Robotics': 0.022222222222222223, 'Robots': 0.022222222222222223, 'perform': 0.022222222222222223, 'physical': 0.022222222222222223, 'world': 0.022222222222222223, 'using': 0.022222222222222223, 'technique': 0.022222222222222223, 'Video': 0.022222222222222223, 'gameplay': 0.022222222222222223, 'bots': 0.022222222222222223, 'play': 0.022222222222222223, 'video': 0.022222222222222223, 'games': 0.022222222222222223, 'Resource': 0.022222222222222223, 'management': 0.022222222222222223, 'Given': 0.022222222222222223, 'finite': 0.022222222222222223, 'resources': 0.044444444444444446, 'help': 0.022222222222222223, 'plan': 0.022222222222222223, 'allocate': 0.022222222222222223}\n"
     ]
    }
   ],
   "source": [
    "print(word_frequencies)"
   ]
  },
  {
   "cell_type": "code",
   "execution_count": 13,
   "id": "52d25e27",
   "metadata": {},
   "outputs": [],
   "source": [
    "#create sent freq\n",
    "sent_list=nltk.sent_tokenize(text)\n",
    "\n",
    "sentence_scores = {}\n",
    "for sent in sent_list:\n",
    "    sentence = sent.split(\" \")\n",
    "    for word in sentence:        \n",
    "        if word.lower() in word_frequencies.keys():\n",
    "            if sent not in sentence_scores.keys():\n",
    "                sentence_scores[sent] = word_frequencies[word.lower()]\n",
    "            else:\n",
    "                sentence_scores[sent] += word_frequencies[word.lower()]\n"
   ]
  },
  {
   "cell_type": "code",
   "execution_count": 14,
   "id": "4dd839df",
   "metadata": {},
   "outputs": [
    {
     "data": {
      "text/plain": [
       "{'Machine learning\\n\\nEd Burns\\nBy\\nEd Burns, Executive Editor\\nWhat is machine learning?': 0.8,\n",
       " 'Machine learning (ML) is a type of artificial intelligence (AI) that allows software applications to become more accurate at predicting outcomes without being explicitly programmed to do so.': 1.8888888888888882,\n",
       " 'Machine learning algorithms use historical data as input to predict new output values.': 2.6,\n",
       " 'Recommendation engines are a common use case for machine learning.': 0.5777777777777778,\n",
       " 'Other popular uses include fraud detection, spam filtering, malware threat detection, business process automation (BPA) and predictive maintenance.': 0.39999999999999997,\n",
       " 'Why is machine learning important?': 1.4,\n",
       " 'Machine learning is important because it gives enterprises a view of trends in customer behavior and business operational patterns, as well as supports the development of new products.': 1.866666666666666,\n",
       " \"Many of today's leading companies, such as Facebook, Google and Uber, make machine learning a central part of their operations.\": 1.5333333333333334,\n",
       " 'Machine learning has become a significant competitive differentiator for many companies.': 1.5555555555555551,\n",
       " 'What are the different types of machine learning?': 0.5555555555555556,\n",
       " 'Classical machine learning is often categorized by how an algorithm learns to become more accurate in its predictions.': 1.9333333333333333,\n",
       " 'There are four basic approaches: supervised learning, unsupervised learning, semi-supervised learning and reinforcement learning.': 1.3555555555555554,\n",
       " 'The type of algorithm data scientists choose to use depends on what type of data they want to predict.': 2.1333333333333333,\n",
       " \"THIS ARTICLE IS PART OF\\n\\nIn-depth guide to machine learning in the enterprise\\nWhich also includes:\\nLearn the business value of AI's various techniques\\n10 common uses for machine learning applications in business\\n6 ways to reduce different types of bias in machine learning\\nDOWNLOAD\\n1\\nDownload this entire guide for FREE now!\": 3.91111111111111,\n",
       " 'Supervised learning: In this type of machine learning, data scientists supply algorithms with labeled training data and define the variables they want the algorithm to assess for correlations.': 2.8888888888888884,\n",
       " 'Both the input and the output of the algorithm is specified.': 0.39999999999999997,\n",
       " 'Unsupervised learning: This type of machine learning involves algorithms that train on unlabeled data.': 2.022222222222222,\n",
       " 'The algorithm scans through data sets looking for any meaningful connection.': 1.111111111111111,\n",
       " 'The data that algorithms train on as well as the predictions or recommendations they output are predetermined.': 1.1555555555555554,\n",
       " 'Semi-supervised learning: This approach to machine learning involves a mix of the two preceding types.': 1.6444444444444444,\n",
       " 'Data scientists may feed an algorithm mostly labeled training data, but the model is free to explore the data on its own and develop its own understanding of the data set.': 2.755555555555555,\n",
       " 'Reinforcement learning: Data scientists typically use reinforcement learning to teach a machine to complete a multi-step process for which there are clearly defined rules.': 2.7555555555555546,\n",
       " 'Data scientists program an algorithm to complete a task and give it positive or negative cues as it works out how to complete a task.': 1.5111111111111108,\n",
       " 'But for the most part, the algorithm decides on its own what steps to take along the way.': 0.37777777777777766,\n",
       " 'How does supervised machine learning work?': 1.4666666666666668,\n",
       " 'Supervised machine learning requires the data scientist to train the algorithm with both labeled inputs and desired outputs.': 2.711111111111111,\n",
       " 'Supervised learning algorithms are good for the following tasks:\\n\\nBinary classification: Dividing data into two categories.': 2.088888888888889,\n",
       " 'Multi-class classification: Choosing between more than two types of answers.': 0.17777777777777776,\n",
       " 'Regression modeling: Predicting continuous values.': 0.044444444444444446,\n",
       " 'Ensembling: Combining the predictions of multiple machine learning models to produce an accurate prediction.': 1.5999999999999999,\n",
       " 'How does unsupervised machine learning work?': 1.488888888888889,\n",
       " 'Unsupervised machine learning algorithms do not require data to be labeled.': 2.3777777777777778,\n",
       " 'They sift through unlabeled data to look for patterns that can be used to group data points into subsets.': 1.6000000000000003,\n",
       " 'Most types of deep learning, including neural networks, are unsupervised algorithms.': 0.26666666666666666,\n",
       " 'Unsupervised learning algorithms are good for the following tasks:\\n\\nClustering: Splitting the dataset into groups based on similarity.': 1.4888888888888887,\n",
       " 'Anomaly detection: Identifying unusual data points in a data set.': 1.3555555555555556,\n",
       " 'Association mining: Identifying sets of items in a data set that frequently occur together.': 0.9555555555555556,\n",
       " 'Dimensionality reduction: Reducing the number of variables in a data set.': 0.7333333333333334,\n",
       " 'How does semi-supervised learning work?': 1.0666666666666667,\n",
       " 'Semi-supervised learning works by data scientists feeding a small amount of labeled training data to an algorithm.': 2.8666666666666667,\n",
       " 'From this, the algorithm learns the dimensions of the data set, which it can then apply to new, unlabeled data.': 1.1111111111111112,\n",
       " 'The performance of algorithms typically improves when they train on labeled data sets.': 1.2000000000000002,\n",
       " 'But labeling data can be time consuming and expensive.': 0.7111111111111112,\n",
       " 'Semi-supervised learning strikes a middle ground between the performance of supervised learning and the efficiency of unsupervised learning.': 2.3555555555555556,\n",
       " 'Some areas where semi-supervised learning is used include:\\n\\nMachine translation: Teaching algorithms to translate language based on less than a full dictionary of words.': 1.5777777777777773,\n",
       " 'Fraud detection: Identifying cases of fraud when you only have a few positive examples.': 0.17777777777777776,\n",
       " 'Labelling data: Algorithms trained on small data sets can learn to apply data labels to larger sets automatically.': 1.9333333333333336,\n",
       " 'How does reinforcement learning work?': 1.0888888888888888,\n",
       " 'Reinforcement learning works by programming an algorithm with a distinct goal and a prescribed set of rules for accomplishing that goal.': 1.8222222222222217,\n",
       " 'Data scientists also program the algorithm to seek positive rewards -- which it receives when it performs an action that is beneficial toward the ultimate goal -- and avoid punishments -- which it receives when it performs an action that gets it farther away from its ultimate goal.': 2.1111111111111107,\n",
       " 'Reinforcement learning is often used in areas such as:\\n\\nRobotics: Robots can learn to perform tasks the physical world using this technique.': 1.4666666666666663,\n",
       " 'Video gameplay: Reinforcement learning has been used to teach bots to play a number of video games.': 1.3555555555555554,\n",
       " 'Resource management: Given finite resources and a defined goal, reinforcement learning can help enterprises plan out how to allocate resources.': 1.311111111111111}"
      ]
     },
     "execution_count": 14,
     "metadata": {},
     "output_type": "execute_result"
    }
   ],
   "source": [
    "sentence_scores"
   ]
  },
  {
   "cell_type": "code",
   "execution_count": 15,
   "id": "2c099105",
   "metadata": {},
   "outputs": [],
   "source": [
    "summary = nlargest(5, sentence_scores, key = sentence_scores.get)"
   ]
  },
  {
   "cell_type": "code",
   "execution_count": 16,
   "id": "5a2c5ed6",
   "metadata": {},
   "outputs": [
    {
     "data": {
      "text/plain": [
       "[\"THIS ARTICLE IS PART OF\\n\\nIn-depth guide to machine learning in the enterprise\\nWhich also includes:\\nLearn the business value of AI's various techniques\\n10 common uses for machine learning applications in business\\n6 ways to reduce different types of bias in machine learning\\nDOWNLOAD\\n1\\nDownload this entire guide for FREE now!\",\n",
       " 'Supervised learning: In this type of machine learning, data scientists supply algorithms with labeled training data and define the variables they want the algorithm to assess for correlations.',\n",
       " 'Semi-supervised learning works by data scientists feeding a small amount of labeled training data to an algorithm.',\n",
       " 'Data scientists may feed an algorithm mostly labeled training data, but the model is free to explore the data on its own and develop its own understanding of the data set.',\n",
       " 'Reinforcement learning: Data scientists typically use reinforcement learning to teach a machine to complete a multi-step process for which there are clearly defined rules.']"
      ]
     },
     "execution_count": 16,
     "metadata": {},
     "output_type": "execute_result"
    }
   ],
   "source": [
    "summary"
   ]
  },
  {
   "cell_type": "code",
   "execution_count": 17,
   "id": "84813a5e",
   "metadata": {},
   "outputs": [
    {
     "data": {
      "text/plain": [
       "\"THIS ARTICLE IS PART OF\\n\\nIn-depth guide to machine learning in the enterprise\\nWhich also includes:\\nLearn the business value of AI's various techniques\\n10 common uses for machine learning applications in business\\n6 ways to reduce different types of bias in machine learning\\nDOWNLOAD\\n1\\nDownload this entire guide for FREE now! Supervised learning: In this type of machine learning, data scientists supply algorithms with labeled training data and define the variables they want the algorithm to assess for correlations. Semi-supervised learning works by data scientists feeding a small amount of labeled training data to an algorithm. Data scientists may feed an algorithm mostly labeled training data, but the model is free to explore the data on its own and develop its own understanding of the data set. Reinforcement learning: Data scientists typically use reinforcement learning to teach a machine to complete a multi-step process for which there are clearly defined rules.\""
      ]
     },
     "execution_count": 17,
     "metadata": {},
     "output_type": "execute_result"
    }
   ],
   "source": [
    "final_summary= \" \".join(summary)\n",
    "\n",
    "final_summary"
   ]
  },
  {
   "cell_type": "code",
   "execution_count": 23,
   "id": "63a89a33",
   "metadata": {},
   "outputs": [
    {
     "data": {
      "text/plain": [
       "976"
      ]
     },
     "execution_count": 23,
     "metadata": {},
     "output_type": "execute_result"
    }
   ],
   "source": [
    "len(final_summary)"
   ]
  },
  {
   "cell_type": "code",
   "execution_count": null,
   "id": "b7f9b5b3",
   "metadata": {},
   "outputs": [],
   "source": []
  }
 ],
 "metadata": {
  "kernelspec": {
   "display_name": "Python 3 (ipykernel)",
   "language": "python",
   "name": "python3"
  },
  "language_info": {
   "codemirror_mode": {
    "name": "ipython",
    "version": 3
   },
   "file_extension": ".py",
   "mimetype": "text/x-python",
   "name": "python",
   "nbconvert_exporter": "python",
   "pygments_lexer": "ipython3",
   "version": "3.9.12"
  }
 },
 "nbformat": 4,
 "nbformat_minor": 5
}
